{
 "cells": [
  {
   "attachments": {},
   "cell_type": "markdown",
   "metadata": {},
   "source": [
    "# Async query examples"
   ]
  },
  {
   "cell_type": "code",
   "execution_count": null,
   "metadata": {},
   "outputs": [],
   "source": [
    "import numpy as np\n",
    "import pandas as pd\n",
    "import matplotlib.pyplot as plt\n",
    "import seaborn as sns\n",
    "\n",
    "from astropy.table import vstack\n",
    "from scipy.optimize import leastsq, minimize\n",
    "\n",
    "from scipy.stats import chisquare\n",
    "import scienceplots\n",
    "#from photometric_models import HG, HG12, HG1G2\n",
    "from db import query, submit_job_list\n",
    "#import emcee\n",
    "#import corner\n",
    "from tqdm import tqdm\n",
    "import time\n",
    "\n",
    "plt.style.use('science')\n",
    "\n",
    "filters = ['g', 'r', 'i', 'z']\n",
    "filter_colors = {'g': '#008060', 'r': '#ff4000', 'i': '#850000', 'z': '#6600cc'}\n",
    "linestyles = {'g': \"--\", \"r\":\"-.\", \"i\":\":\", \"z\":\"-\"}\n",
    "regions = {\n",
    "    \"NEO\": \"q <= 1.3\",\n",
    "    \"Main Belt\": \"(mpc.e <1) and (mpc.q/(1-mpc.e) >= 1.6) and (mpc.q/(1-mpc.e) <= 4.2 and mpc.q>=1.3)\",\n",
    "    \"Jupiter Trojans\": \"(mpc.q/(1-mpc.e) >= 5.05) and (mpc.q/(1-mpc.e) <= 5.35)\" #5.05 and 5.35 AU\n",
    "}\n",
    "\n",
    "attribs = ['Chi2', 'G12', 'G12Err', 'H', 'HErr', 'Ndata']"
   ]
  },
  {
   "cell_type": "code",
   "execution_count": 13,
   "metadata": {},
   "outputs": [
    {
     "name": "stdout",
     "output_type": "stream",
     "text": [
      "CPU times: user 2 µs, sys: 0 ns, total: 2 µs\n",
      "Wall time: 2.86 µs\n",
      "COMPLETED\n",
      "14.29234004020691\n"
     ]
    }
   ],
   "source": [
    "%time\n",
    "condition = regions[\"NEO\"]\n",
    "\n",
    "start = time.time()\n",
    "\n",
    "results = submit_job_list(\n",
    "    [f'''\n",
    "        select distinct sss.ssObjectId\n",
    "        from dp03_catalogs_10yr.SSSource as sss\n",
    "        join dp03_catalogs_10yr.MPCORB as mpc on mpc.SSObjectId = sss.SSObjectId\n",
    "        where {condition}\n",
    "        ''']\n",
    ")\n",
    "complete = False\n",
    "while complete == False:\n",
    "    time.sleep(1)\n",
    "    count = 0\n",
    "    for result in list(results):\n",
    "        if result.phase == \"COMPLETED\":\n",
    "            #print(result.fetch_result())\n",
    "            complete = True\n",
    "            print(result.phase)\n",
    "\n",
    "print(time.time() - start)"
   ]
  },
  {
   "cell_type": "code",
   "execution_count": 14,
   "metadata": {},
   "outputs": [
    {
     "name": "stdout",
     "output_type": "stream",
     "text": [
      "<Table length=41065>\n",
      "     ssObjectId     \n",
      "       int64        \n",
      "--------------------\n",
      " 5463436545848220655\n",
      " -718914334477707624\n",
      "-8829936806506462420\n",
      " 4341523755707737517\n",
      "-2580115183126611617\n",
      " 2202517760806173108\n",
      "-1518175712613454268\n",
      "-8618045748256124410\n",
      " 6512273716856938023\n",
      "-8912688653981837173\n",
      "                 ...\n",
      " 3188007418840501339\n",
      " 2207505050739593347\n",
      " 1130669389144427300\n",
      " 6517153337351365225\n",
      "-6375924284678216197\n",
      "-4643596115910817481\n",
      "-2853784656279912776\n",
      " 1422036302698339752\n",
      "-3261956336577558163\n",
      "-8935622405846662221\n",
      "1.7855689525604248\n"
     ]
    }
   ],
   "source": [
    "start = time.time()\n",
    "for result in list(results):\n",
    "        if result.phase == \"COMPLETED\":\n",
    "            print(result.fetch_result())\n",
    "print(time.time() - start)"
   ]
  },
  {
   "cell_type": "code",
   "execution_count": 12,
   "metadata": {},
   "outputs": [
    {
     "name": "stdout",
     "output_type": "stream",
     "text": [
      "729.8126583099365\n"
     ]
    }
   ],
   "source": [
    "condition = regions[\"NEO\"]\n",
    "\n",
    "start = time.time()\n",
    "for _, condition in regions.items():\n",
    "    stmt = f'''\n",
    "        select distinct sss.ssObjectId\n",
    "        from dp03_catalogs_10yr.SSSource as sss\n",
    "        join dp03_catalogs_10yr.MPCORB as mpc on mpc.SSObjectId = sss.SSObjectId\n",
    "        where {condition}\n",
    "        '''\n",
    "    query(stmt)\n",
    "\n",
    "print(time.time() - start)"
   ]
  },
  {
   "cell_type": "code",
   "execution_count": 12,
   "metadata": {},
   "outputs": [
    {
     "name": "stdout",
     "output_type": "stream",
     "text": [
      "COMPLETED\n",
      "COMPLETED\n"
     ]
    }
   ],
   "source": [
    "for result in list(results):\n",
    "    if result.phase == \"COMPLETED\":\n",
    "        #print(result.fetch_result())\n",
    "        print(result.phase)"
   ]
  },
  {
   "cell_type": "code",
   "execution_count": 13,
   "metadata": {},
   "outputs": [],
   "source": [
    "mb_ids = list(pd.read_csv(\"./IDS/Main Belt_ids.csv\", index_col=False)[\"ssObjectId\"])\n",
    "#table = None\n",
    "delta = 10000\n",
    "job_list = [\n",
    "    f'''\n",
    "        select sss.ssObjectId,\n",
    "        band,\n",
    "        count(phaseAngle), \n",
    "        min(phaseAngle) as minPhase, \n",
    "        max(phaseAngle) as maxPhase, \n",
    "        (max(phaseAngle) - min(phaseAngle))/count(sss.ssObjectId) as phaseDensity, \n",
    "        SUM(CASE WHEN phaseAngle < 2 THEN 1 ELSE 0 END) AS oppCOV, \n",
    "        SUM(CASE WHEN phaseAngle > 2 AND phaseAngle < 15 THEN 1 ELSE 0 END) AS modCOV, \n",
    "        SUM(CASE WHEN phaseAngle > 15 THEN 1 ELSE 0 END) AS highCOV,\n",
    "        AVG(mag) as avgMag,\n",
    "        STDDEV(mag) as magSTD,\n",
    "        AVG(magErr) as avgMagErr,\n",
    "        STDDEV(magErr) as MagErrSTD\n",
    "        from dp03_catalogs_10yr.SSSource as sss\n",
    "        left join dp03_catalogs_10yr.DiaSource as dia on sss.diaSourceId = dia.diaSourceId\n",
    "        where sss.ssObjectId in {tuple(mb_ids[i*delta:(i+1)*delta])}\n",
    "        group by sss.ssObjectId, band\n",
    "        ''' for i in range(np.floor(len(mb_ids)/delta).astype(int) + 1)\n",
    "]\n",
    "results = submit_job_list(\n",
    "    job_list\n",
    ")"
   ]
  },
  {
   "cell_type": "code",
   "execution_count": 52,
   "metadata": {},
   "outputs": [],
   "source": [
    "mb_ids = list(pd.read_csv(\"./IDS/Main Belt_ids.csv\", index_col=False)[\"ssObjectId\"])\n",
    "#table = None\n",
    "delta = 10000\n",
    "photo_job_list = [\n",
    "    f'''\n",
    "    select sso.ssObjectId,\n",
    "    g_Chi2, g_G12, g_G12Err, g_H, g_HErr, g_Ndata, \n",
    "    i_Chi2, i_G12, i_G12Err, i_H, i_HErr, i_Ndata, \n",
    "    r_Chi2, r_G12, r_G12Err, r_H, r_HErr, r_Ndata, \n",
    "    z_Chi2, z_G12, z_G12Err, z_H, z_HErr, z_Ndata\n",
    "    from dp03_catalogs_10yr.SSObject as sso\n",
    "    where sso.ssObjectId in {tuple(mb_ids[i*delta:(i+1)*delta])}\n",
    "    ''' for i in range(np.floor(len(mb_ids)/delta).astype(int) + 1)\n",
    "]\n",
    "photo_results = submit_job_list(\n",
    "    photo_job_list\n",
    ")"
   ]
  },
  {
   "cell_type": "code",
   "execution_count": 55,
   "metadata": {},
   "outputs": [
    {
     "name": "stderr",
     "output_type": "stream",
     "text": [
      "100%|██████████| 428/428 [07:21<00:00,  1.03s/it]"
     ]
    },
    {
     "name": "stdout",
     "output_type": "stream",
     "text": [
      "Completed 428 jobs\n"
     ]
    },
    {
     "name": "stderr",
     "output_type": "stream",
     "text": [
      "\n"
     ]
    }
   ],
   "source": [
    "queue = 0\n",
    "completed = 0\n",
    "\n",
    "for result in tqdm(list(photo_results)):\n",
    "    result.executionduration = 600\n",
    "    try:\n",
    "        if result.phase == \"COMPLETED\":\n",
    "            completed += 1\n",
    "            #print(result.phase)\n",
    "            #print(result.fetch_result())\n",
    "        else:\n",
    "            #print(result.phase)\n",
    "            #http://docs.g-vo.org/pyvo/html/page013.html\n",
    "            queue += 1\n",
    "    except:\n",
    "        print(\"Error with connection\")\n",
    "print(f\"Completed {completed} jobs\")"
   ]
  },
  {
   "cell_type": "code",
   "execution_count": 57,
   "metadata": {},
   "outputs": [
    {
     "name": "stderr",
     "output_type": "stream",
     "text": [
      "100%|██████████| 428/428 [2:27:22<00:00, 20.66s/it]  \n"
     ]
    }
   ],
   "source": [
    "table = None\n",
    "\n",
    "for result in tqdm(list(photo_results)):\n",
    "    result.executionduration = 600\n",
    "    try:\n",
    "        if result.phase == \"COMPLETED\":\n",
    "            if not table:\n",
    "                table = result.fetch_result().to_table()\n",
    "            else:\n",
    "                table = vstack([table, result.fetch_result().to_table()])\n",
    "            table.to_pandas().to_csv(\"./photometric/main_belt.csv\")\n",
    "        else:\n",
    "            #print(result.phase)\n",
    "            #http://docs.g-vo.org/pyvo/html/page013.html\n",
    "            queue += 1\n",
    "            print(\"Error\")\n",
    "    except:\n",
    "        print(\"Error with connection\")"
   ]
  },
  {
   "cell_type": "code",
   "execution_count": 48,
   "metadata": {},
   "outputs": [
    {
     "name": "stderr",
     "output_type": "stream",
     "text": [
      "  0%|          | 0/428 [00:00<?, ?it/s]"
     ]
    },
    {
     "name": "stderr",
     "output_type": "stream",
     "text": [
      "100%|██████████| 428/428 [06:31<00:00,  1.09it/s]"
     ]
    },
    {
     "name": "stdout",
     "output_type": "stream",
     "text": [
      "Completed 428 jobs\n"
     ]
    },
    {
     "name": "stderr",
     "output_type": "stream",
     "text": [
      "\n"
     ]
    }
   ],
   "source": [
    "queue = 0\n",
    "completed = 0\n",
    "\n",
    "for result in tqdm(list(results)):\n",
    "    result.executionduration = 600\n",
    "    try:\n",
    "        if result.phase == \"COMPLETED\":\n",
    "            completed += 1\n",
    "            #print(result.phase)\n",
    "            #print(result.fetch_result())\n",
    "        else:\n",
    "            #print(result.phase)\n",
    "            #http://docs.g-vo.org/pyvo/html/page013.html\n",
    "            queue += 1\n",
    "    except:\n",
    "        print(\"Error with connection\")\n",
    "print(f\"Completed {completed} jobs\")"
   ]
  },
  {
   "cell_type": "code",
   "execution_count": 51,
   "metadata": {},
   "outputs": [
    {
     "name": "stderr",
     "output_type": "stream",
     "text": [
      "100%|██████████| 428/428 [5:34:52<00:00, 46.94s/it]  \n"
     ]
    }
   ],
   "source": [
    "table = None\n",
    "\n",
    "for result in tqdm(list(results)):\n",
    "    result.executionduration = 600\n",
    "    try:\n",
    "        if result.phase == \"COMPLETED\":\n",
    "            if not table:\n",
    "                table = result.fetch_result().to_table()\n",
    "            else:\n",
    "                table = vstack([table, result.fetch_result().to_table()])\n",
    "            table.to_pandas().to_csv(\"./phase_parameters/main_belt.csv\")\n",
    "        else:\n",
    "            #print(result.phase)\n",
    "            #http://docs.g-vo.org/pyvo/html/page013.html\n",
    "            queue += 1\n",
    "            print(\"Error\")\n",
    "    except:\n",
    "        print(\"Error with connection\")"
   ]
  }
 ],
 "metadata": {
  "kernelspec": {
   "display_name": ".venv",
   "language": "python",
   "name": "python3"
  },
  "language_info": {
   "codemirror_mode": {
    "name": "ipython",
    "version": 3
   },
   "file_extension": ".py",
   "mimetype": "text/x-python",
   "name": "python",
   "nbconvert_exporter": "python",
   "pygments_lexer": "ipython3",
   "version": "3.10.12"
  },
  "orig_nbformat": 4
 },
 "nbformat": 4,
 "nbformat_minor": 2
}
