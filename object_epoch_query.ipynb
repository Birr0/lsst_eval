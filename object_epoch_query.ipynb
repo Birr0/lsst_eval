{
 "cells": [
  {
   "cell_type": "code",
   "execution_count": 2,
   "metadata": {},
   "outputs": [],
   "source": [
    "import numpy as np\n",
    "import pandas as pd\n",
    "import matplotlib.pyplot as plt\n",
    "from scipy.optimize import leastsq\n",
    "import scienceplots\n",
    "from photometric_models import HG, HG12, HG1G2\n",
    "from db import query\n",
    "plt.style.use('science')\n",
    "\n",
    "filters = ['g', 'r', 'i', 'z']\n",
    "filter_colors = {'g': '#008060', 'r': '#ff4000', 'i': '#850000', 'z': '#6600cc'}\n",
    "linestyles = {'g': \"--\", \"r\":\"-.\", \"i\":\":\", \"z\":\"-\"}"
   ]
  },
  {
   "cell_type": "code",
   "execution_count": null,
   "metadata": {},
   "outputs": [],
   "source": [
    "# Get all ssObjectId\n",
    "# Partion ob"
   ]
  },
  {
   "cell_type": "code",
   "execution_count": 3,
   "metadata": {},
   "outputs": [
    {
     "ename": "DALQueryError",
     "evalue": "The connection attempt failed. Connect timed out",
     "output_type": "error",
     "traceback": [
      "\u001b[0;31m---------------------------------------------------------------------------\u001b[0m",
      "\u001b[0;31mDALQueryError\u001b[0m                             Traceback (most recent call last)",
      "Cell \u001b[0;32mIn[3], line 8\u001b[0m\n\u001b[1;32m      1\u001b[0m time \u001b[39m=\u001b[39m [\n\u001b[1;32m      2\u001b[0m     \u001b[39m61021\u001b[39m,\n\u001b[1;32m      3\u001b[0m     \u001b[39m61057\u001b[39m\n\u001b[1;32m      4\u001b[0m ]\n\u001b[1;32m      6\u001b[0m obj_id \u001b[39m=\u001b[39m \u001b[39m-\u001b[39m\u001b[39m9217466392671047318\u001b[39m\n\u001b[0;32m----> 8\u001b[0m obj \u001b[39m=\u001b[39m query(\n\u001b[1;32m      9\u001b[0m     \u001b[39mf\u001b[39;49m\u001b[39m'''\u001b[39;49m\n\u001b[1;32m     10\u001b[0m \u001b[39m    SELECT * FROM dp03_catalogs_10yr.DiaSource as ds\u001b[39;49m\n\u001b[1;32m     11\u001b[0m \u001b[39m    WHERE ds.ssObjectId = \u001b[39;49m\u001b[39m{\u001b[39;49;00mobj_id\u001b[39m}\u001b[39;49;00m\u001b[39m AND  midPointMjdTai >= \u001b[39;49m\u001b[39m{\u001b[39;49;00mtime[\u001b[39m0\u001b[39;49m]\u001b[39m}\u001b[39;49;00m\u001b[39m and midPointMjdTai <= \u001b[39;49m\u001b[39m{\u001b[39;49;00mtime[\u001b[39m1\u001b[39;49m]\u001b[39m}\u001b[39;49;00m\n\u001b[1;32m     12\u001b[0m \u001b[39m    \u001b[39;49m\u001b[39m'''\u001b[39;49m\n\u001b[1;32m     13\u001b[0m )\n",
      "File \u001b[0;32m~/Desktop/msc_project/lsst_eval/db.py:27\u001b[0m, in \u001b[0;36mquery\u001b[0;34m(stmt)\u001b[0m\n\u001b[1;32m     26\u001b[0m \u001b[39mdef\u001b[39;00m \u001b[39mquery\u001b[39m(stmt):\n\u001b[0;32m---> 27\u001b[0m     \u001b[39mreturn\u001b[39;00m service()\u001b[39m.\u001b[39;49msearch(\n\u001b[1;32m     28\u001b[0m         stmt\n\u001b[1;32m     29\u001b[0m     )\n",
      "File \u001b[0;32m~/Desktop/msc_project/.venv/lib/python3.11/site-packages/pyvo/dal/tap.py:257\u001b[0m, in \u001b[0;36mTAPService.run_sync\u001b[0;34m(self, query, language, maxrec, uploads, **keywords)\u001b[0m\n\u001b[1;32m    228\u001b[0m \u001b[39mdef\u001b[39;00m \u001b[39mrun_sync\u001b[39m(\n\u001b[1;32m    229\u001b[0m         \u001b[39mself\u001b[39m, query, language\u001b[39m=\u001b[39m\u001b[39m\"\u001b[39m\u001b[39mADQL\u001b[39m\u001b[39m\"\u001b[39m, maxrec\u001b[39m=\u001b[39m\u001b[39mNone\u001b[39;00m, uploads\u001b[39m=\u001b[39m\u001b[39mNone\u001b[39;00m,\n\u001b[1;32m    230\u001b[0m         \u001b[39m*\u001b[39m\u001b[39m*\u001b[39mkeywords):\n\u001b[1;32m    231\u001b[0m \u001b[39m    \u001b[39m\u001b[39m\"\"\"\u001b[39;00m\n\u001b[1;32m    232\u001b[0m \u001b[39m    runs sync query and returns its result\u001b[39;00m\n\u001b[1;32m    233\u001b[0m \n\u001b[0;32m   (...)\u001b[0m\n\u001b[1;32m    253\u001b[0m \u001b[39m    TAPResults\u001b[39;00m\n\u001b[1;32m    254\u001b[0m \u001b[39m    \"\"\"\u001b[39;00m\n\u001b[1;32m    255\u001b[0m     \u001b[39mreturn\u001b[39;00m \u001b[39mself\u001b[39;49m\u001b[39m.\u001b[39;49mcreate_query(\n\u001b[1;32m    256\u001b[0m         query, language\u001b[39m=\u001b[39;49mlanguage, maxrec\u001b[39m=\u001b[39;49mmaxrec, uploads\u001b[39m=\u001b[39;49muploads,\n\u001b[0;32m--> 257\u001b[0m         \u001b[39m*\u001b[39;49m\u001b[39m*\u001b[39;49mkeywords)\u001b[39m.\u001b[39;49mexecute()\n",
      "File \u001b[0;32m~/Desktop/msc_project/.venv/lib/python3.11/site-packages/pyvo/dal/tap.py:1092\u001b[0m, in \u001b[0;36mTAPQuery.execute\u001b[0;34m(self)\u001b[0m\n\u001b[1;32m   1078\u001b[0m \u001b[39mdef\u001b[39;00m \u001b[39mexecute\u001b[39m(\u001b[39mself\u001b[39m):\n\u001b[1;32m   1079\u001b[0m \u001b[39m    \u001b[39m\u001b[39m\"\"\"\u001b[39;00m\n\u001b[1;32m   1080\u001b[0m \u001b[39m    submit the query and return the results as a TAPResults instance\u001b[39;00m\n\u001b[1;32m   1081\u001b[0m \n\u001b[0;32m   (...)\u001b[0m\n\u001b[1;32m   1090\u001b[0m \u001b[39m       for errors parsing the VOTable response\u001b[39;00m\n\u001b[1;32m   1091\u001b[0m \u001b[39m    \"\"\"\u001b[39;00m\n\u001b[0;32m-> 1092\u001b[0m     \u001b[39mreturn\u001b[39;00m TAPResults(\u001b[39mself\u001b[39;49m\u001b[39m.\u001b[39;49mexecute_votable(), url\u001b[39m=\u001b[39;49m\u001b[39mself\u001b[39;49m\u001b[39m.\u001b[39;49mqueryurl, session\u001b[39m=\u001b[39;49m\u001b[39mself\u001b[39;49m\u001b[39m.\u001b[39;49m_session)\n",
      "File \u001b[0;32m~/Desktop/msc_project/.venv/lib/python3.11/site-packages/pyvo/dal/adhoc.py:111\u001b[0m, in \u001b[0;36mAdhocServiceResultsMixin.__init__\u001b[0;34m(self, votable, url, session)\u001b[0m\n\u001b[1;32m    110\u001b[0m \u001b[39mdef\u001b[39;00m \u001b[39m__init__\u001b[39m(\u001b[39mself\u001b[39m, votable, url\u001b[39m=\u001b[39m\u001b[39mNone\u001b[39;00m, session\u001b[39m=\u001b[39m\u001b[39mNone\u001b[39;00m):\n\u001b[0;32m--> 111\u001b[0m     \u001b[39msuper\u001b[39;49m()\u001b[39m.\u001b[39;49m\u001b[39m__init__\u001b[39;49m(votable, url\u001b[39m=\u001b[39;49murl, session\u001b[39m=\u001b[39;49msession)\n\u001b[1;32m    113\u001b[0m     \u001b[39mself\u001b[39m\u001b[39m.\u001b[39m_adhocservices \u001b[39m=\u001b[39m \u001b[39mlist\u001b[39m(\n\u001b[1;32m    114\u001b[0m         resource \u001b[39mfor\u001b[39;00m resource \u001b[39min\u001b[39;00m votable\u001b[39m.\u001b[39mresources\n\u001b[1;32m    115\u001b[0m         \u001b[39mif\u001b[39;00m resource\u001b[39m.\u001b[39mtype \u001b[39m==\u001b[39m \u001b[39m\"\u001b[39m\u001b[39mmeta\u001b[39m\u001b[39m\"\u001b[39m \u001b[39mand\u001b[39;00m resource\u001b[39m.\u001b[39mutype \u001b[39m==\u001b[39m \u001b[39m\"\u001b[39m\u001b[39madhoc:service\u001b[39m\u001b[39m\"\u001b[39m\n\u001b[1;32m    116\u001b[0m     )\n",
      "File \u001b[0;32m~/Desktop/msc_project/.venv/lib/python3.11/site-packages/pyvo/dal/query.py:322\u001b[0m, in \u001b[0;36mDALResults.__init__\u001b[0;34m(self, votable, url, session)\u001b[0m\n\u001b[1;32m    320\u001b[0m \u001b[39mself\u001b[39m\u001b[39m.\u001b[39m_status \u001b[39m=\u001b[39m \u001b[39mself\u001b[39m\u001b[39m.\u001b[39m_findstatus(votable)\n\u001b[1;32m    321\u001b[0m \u001b[39mif\u001b[39;00m \u001b[39mself\u001b[39m\u001b[39m.\u001b[39m_status[\u001b[39m0\u001b[39m]\u001b[39m.\u001b[39mlower() \u001b[39mnot\u001b[39;00m \u001b[39min\u001b[39;00m (\u001b[39m\"\u001b[39m\u001b[39mok\u001b[39m\u001b[39m\"\u001b[39m, \u001b[39m\"\u001b[39m\u001b[39moverflow\u001b[39m\u001b[39m\"\u001b[39m):\n\u001b[0;32m--> 322\u001b[0m     \u001b[39mraise\u001b[39;00m DALQueryError(\u001b[39mself\u001b[39m\u001b[39m.\u001b[39m_status[\u001b[39m1\u001b[39m], \u001b[39mself\u001b[39m\u001b[39m.\u001b[39m_status[\u001b[39m0\u001b[39m], url)\n\u001b[1;32m    324\u001b[0m \u001b[39mif\u001b[39;00m \u001b[39mself\u001b[39m\u001b[39m.\u001b[39m_status[\u001b[39m0\u001b[39m]\u001b[39m.\u001b[39mlower() \u001b[39m==\u001b[39m \u001b[39m\"\u001b[39m\u001b[39moverflow\u001b[39m\u001b[39m\"\u001b[39m:\n\u001b[1;32m    325\u001b[0m     warn(\u001b[39m\"\u001b[39m\u001b[39mPartial result set. Potential causes MAXREC, async storage space, etc.\u001b[39m\u001b[39m\"\u001b[39m,\n\u001b[1;32m    326\u001b[0m          category\u001b[39m=\u001b[39mDALOverflowWarning)\n",
      "\u001b[0;31mDALQueryError\u001b[0m: The connection attempt failed. Connect timed out"
     ]
    }
   ],
   "source": [
    "time = [\n",
    "    61021,\n",
    "    61057\n",
    "]\n",
    "\n",
    "obj_id = -9217466392671047318\n",
    "\n",
    "obj = query(\n",
    "    f'''\n",
    "    SELECT * FROM dp03_catalogs_10yr.DiaSource as ds\n",
    "    WHERE ds.ssObjectId = {obj_id} AND  midPointMjdTai >= {time[0]} and midPointMjdTai <= {time[1]}\n",
    "    '''\n",
    ")"
   ]
  },
  {
   "cell_type": "code",
   "execution_count": 11,
   "metadata": {},
   "outputs": [
    {
     "data": {
      "text/plain": [
       "<Table length=1619>\n",
       "band ccdVisitId    dec    ...    snr         ssObjectId      ssObjectReassocTime\n",
       "                   deg    ...                                                   \n",
       "str1   int64     float64  ...  float32         int64                object      \n",
       "---- ---------- --------- ... --------- -------------------- -------------------\n",
       "   r     449690 2.3487269 ...  76.75284 -9217466392671047318         61021.35247\n",
       "   i     455740 2.1254158 ...  131.5763 -9217466392671047318          61033.2511\n",
       "   z     464736 2.3887429 ...   92.1034 -9217466392671047318         61049.34712\n",
       "   i     455256 2.1390475 ... 115.12926 -9217466392671047318         61031.33981\n",
       "   g     465796 2.4638677 ... 115.12926 -9217466392671047318         61051.17905\n",
       "   r     449680  2.348853 ...  65.78815 -9217466392671047318          61021.3483\n",
       "   r     465066 2.4212409 ...  131.5763 -9217466392671047318         61050.16844\n",
       "   r     460347  2.205932 ...  57.56463 -9217466392671047318         61043.21524\n",
       "   i     456593 2.1217164 ...  131.5763 -9217466392671047318         61034.33649\n",
       " ...        ...       ... ...       ...                  ...                 ...\n",
       "   i     459718 2.1690749 ...   46.0517 -9217466392671047318         61041.23727\n",
       "   i     452572 2.1958582 ...  131.5763 -9217466392671047318         61027.34646\n",
       "   r     453264 2.1779842 ... 153.50568 -9217466392671047318         61028.35491\n",
       "   g     452359  2.197892 ... 102.33711 -9217466392671047318         61027.23918\n",
       "   r     452386 2.1976235 ...  131.5763 -9217466392671047318         61027.25316\n",
       "   i     458358 2.1330302 ...   92.1034 -9217466392671047318          61038.2171\n",
       "   i     457948 2.1227334 ...  131.5763 -9217466392671047318         61036.34264\n",
       "   r     466537 2.5106892 ...  184.2068 -9217466392671047318         61052.21725\n",
       "   i     451704 2.2627221 ... 102.33711 -9217466392671047318         61024.34328\n",
       "   g     459695 2.1688973 ... 61.402267 -9217466392671047318         61041.22632"
      ]
     },
     "execution_count": 11,
     "metadata": {},
     "output_type": "execute_result"
    }
   ],
   "source": [
    "obj"
   ]
  }
 ],
 "metadata": {
  "kernelspec": {
   "display_name": ".venv",
   "language": "python",
   "name": "python3"
  },
  "language_info": {
   "codemirror_mode": {
    "name": "ipython",
    "version": 3
   },
   "file_extension": ".py",
   "mimetype": "text/x-python",
   "name": "python",
   "nbconvert_exporter": "python",
   "pygments_lexer": "ipython3",
   "version": "3.11.4"
  },
  "orig_nbformat": 4
 },
 "nbformat": 4,
 "nbformat_minor": 2
}
