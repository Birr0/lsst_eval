{
 "cells": [
  {
   "attachments": {},
   "cell_type": "markdown",
   "metadata": {},
   "source": [
    "# Finding wacky magnitudes in detection data"
   ]
  },
  {
   "cell_type": "code",
   "execution_count": 2,
   "metadata": {},
   "outputs": [],
   "source": [
    "from db import query\n",
    "import matplotlib.pyplot as plt\n",
    "import numpy as np"
   ]
  },
  {
   "cell_type": "code",
   "execution_count": 3,
   "metadata": {},
   "outputs": [
    {
     "data": {
      "text/plain": [
       "'\\n    \"Inner Belt\": \"(mpc.e <1) and (mpc.q/(1-mpc.e) >= 2.1) and (mpc.q/(1-mpc.e) <= 2.5 and mpc.q>=1.3)\",\\n    \"Middle Belt\": \"(mpc.e <1) and (mpc.q/(1-mpc.e) >= 2.5) and (mpc.q/(1-mpc.e) <= 2.8 and mpc.q>=1.3)\",\\n    \"Outer Belt\": \"(mpc.e <1) and (mpc.q/(1-mpc.e) >= 2.8) and (mpc.q/(1-mpc.e) <= 3.2 and mpc.q>=1.3)\",\\n'"
      ]
     },
     "execution_count": 3,
     "metadata": {},
     "output_type": "execute_result"
    }
   ],
   "source": [
    "regions = {\n",
    "    \"NEO\": \"q <= 1.3\",\n",
    "    \"Main Belt\": \"(mpc.e <1) and (mpc.q/(1-mpc.e) >= 1.8) and (mpc.q/(1-mpc.e) <= 4.1 and mpc.q>=1.3)\",\n",
    "    \"Jupiter Trojans\": \"(mpc.q/(1-mpc.e) >= 5.05) and (mpc.q/(1-mpc.e) <= 5.35)\"\n",
    "}\n",
    "'''\n",
    "    \"Inner Belt\": \"(mpc.e <1) and (mpc.q/(1-mpc.e) >= 2.1) and (mpc.q/(1-mpc.e) <= 2.5 and mpc.q>=1.3)\",\n",
    "    \"Middle Belt\": \"(mpc.e <1) and (mpc.q/(1-mpc.e) >= 2.5) and (mpc.q/(1-mpc.e) <= 2.8 and mpc.q>=1.3)\",\n",
    "    \"Outer Belt\": \"(mpc.e <1) and (mpc.q/(1-mpc.e) >= 2.8) and (mpc.q/(1-mpc.e) <= 3.2 and mpc.q>=1.3)\",\n",
    "'''"
   ]
  },
  {
   "cell_type": "code",
   "execution_count": 4,
   "metadata": {},
   "outputs": [],
   "source": [
    "extreme_region_obj_ids = {\n",
    "    region: [] for region in regions\n",
    "}\n",
    "\n",
    "for region, condition in regions.items():\n",
    "    stmt = f'''\n",
    "            select distinct ds.ssObjectId\n",
    "            from dp03_catalogs_10yr.DiaSource as ds\n",
    "            join dp03_catalogs_10yr.MPCORB as mpc on mpc.ssObjectId = ds.ssObjectId\n",
    "            where mag>=30 and {condition}\n",
    "            '''\n",
    "\n",
    "    extreme_region_obj_ids[region].append(\n",
    "        query(\n",
    "            stmt\n",
    "        )\n",
    "    )"
   ]
  },
  {
   "cell_type": "code",
   "execution_count": 6,
   "metadata": {},
   "outputs": [],
   "source": [
    "for region in regions:\n",
    "    region_ids = np.array(extreme_region_obj_ids[region][0][\"ssObjectId\"])\n",
    "    np.save(f\"{region}_wacky_mag_ids.npy\", region_ids)\n"
   ]
  },
  {
   "cell_type": "code",
   "execution_count": 76,
   "metadata": {},
   "outputs": [],
   "source": [
    "sample_ids = ''\n",
    "\n",
    "for region in regions:\n",
    "    region_ids = np.load(f\"{region}_wacky_mag_ids.npy\")\n",
    "    for i, id_ in enumerate(region_ids):\n",
    "        if i == 10:\n",
    "            break\n",
    "        sample_ids += f\"{id_}\\n\""
   ]
  },
  {
   "cell_type": "code",
   "execution_count": 28,
   "metadata": {},
   "outputs": [],
   "source": [
    "with open(\"extreme_mag_sso_ids.txt\", \"w\") as f:\n",
    "    f.write(sample_ids)"
   ]
  },
  {
   "cell_type": "code",
   "execution_count": 33,
   "metadata": {},
   "outputs": [],
   "source": [
    "with open(\"extreme_mag_sso_ids.txt\", \"r\") as f:\n",
    "    x = f.read()"
   ]
  },
  {
   "cell_type": "code",
   "execution_count": 35,
   "metadata": {},
   "outputs": [
    {
     "data": {
      "text/plain": [
       "array([-9.22295258e+18, -9.22282078e+18, -9.22280967e+18, -9.22186366e+18,\n",
       "       -9.22172579e+18, -9.21917173e+18, -9.21900480e+18, -9.21875178e+18,\n",
       "       -9.21870294e+18, -9.21739239e+18, -9.22336141e+18, -9.22304290e+18,\n",
       "       -9.22303446e+18, -9.22264166e+18, -9.22258022e+18, -9.22241079e+18,\n",
       "       -9.22240772e+18, -9.22225774e+18, -9.22215819e+18, -9.22211268e+18,\n",
       "       -9.15178046e+18, -8.19402094e+18, -7.93964688e+18, -7.66471524e+18,\n",
       "       -7.66469932e+18, -7.32231095e+18, -6.80554704e+18, -6.31338915e+18,\n",
       "       -5.15823513e+18, -4.93752875e+18])"
      ]
     },
     "execution_count": 35,
     "metadata": {},
     "output_type": "execute_result"
    }
   ],
   "source": []
  },
  {
   "cell_type": "code",
   "execution_count": 32,
   "metadata": {},
   "outputs": [
    {
     "name": "stdout",
     "output_type": "stream",
     "text": [
      "['-9222952578217572358\\n', '-9222820784385736130\\n', '-9222809672762914664\\n', '-9221863656130805355\\n', '-9221725792864632030\\n', '-9219171728267255250\\n', '-9219004795225525487\\n', '-9218751781267493519\\n', '-9218702941270032991\\n', '-9217392391377721617\\n', '-9223361410996246632\\n', '-9223042898016600656\\n', '-9223034456110583874\\n', '-9222641660935175772\\n', '-9222580215551496958\\n', '-9222410793602294314\\n', '-9222407716416544954\\n', '-9222257742576065738\\n', '-9222158186234987381\\n', '-9222112676215349544\\n', '-9151780455599520987\\n', '-8194020940828785431\\n', '-7939646878033476588\\n', '-7664715237985233284\\n', '-7664699315439185462\\n', '-7322310952109863571\\n', '-6805547041174919814\\n', '-6313389151816087032\\n', '-5158235125789188184\\n', '-4937528747852601754\\n']\n"
     ]
    }
   ],
   "source": [
    "with open(\"extreme_mag_sso_ids.txt\", \"r\") as f:\n",
    "    print(f.readlines())"
   ]
  },
  {
   "cell_type": "code",
   "execution_count": 51,
   "metadata": {},
   "outputs": [
    {
     "name": "stdout",
     "output_type": "stream",
     "text": [
      "<Table length=1>\n",
      "count\n",
      "int64\n",
      "-----\n",
      "19891\n"
     ]
    }
   ],
   "source": [
    "stmt = f'''\n",
    "            select distinct count(ds.ssObjectId)\n",
    "            from dp03_catalogs_10yr.DiaSource as ds\n",
    "            where mag>=40\n",
    "            '''\n",
    "\n",
    "print(\n",
    "    query(\n",
    "        stmt\n",
    "    )\n",
    ")"
   ]
  }
 ],
 "metadata": {
  "kernelspec": {
   "display_name": ".venv",
   "language": "python",
   "name": "python3"
  },
  "language_info": {
   "codemirror_mode": {
    "name": "ipython",
    "version": 3
   },
   "file_extension": ".py",
   "mimetype": "text/x-python",
   "name": "python",
   "nbconvert_exporter": "python",
   "pygments_lexer": "ipython3",
   "version": "3.11.4"
  },
  "orig_nbformat": 4
 },
 "nbformat": 4,
 "nbformat_minor": 2
}
