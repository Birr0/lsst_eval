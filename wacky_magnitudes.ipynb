{
 "cells": [
  {
   "attachments": {},
   "cell_type": "markdown",
   "metadata": {},
   "source": [
    "# Finding wacky magnitudes in detection data"
   ]
  },
  {
   "cell_type": "code",
   "execution_count": 66,
   "metadata": {},
   "outputs": [],
   "source": [
    "from db import query\n",
    "import matplotlib.pyplot as plt\n",
    "import numpy as np"
   ]
  },
  {
   "cell_type": "code",
   "execution_count": 67,
   "metadata": {},
   "outputs": [
    {
     "data": {
      "text/plain": [
       "'\\n    \"Inner Belt\": \"(mpc.e <1) and (mpc.q/(1-mpc.e) >= 2.1) and (mpc.q/(1-mpc.e) <= 2.5 and mpc.q>=1.3)\",\\n    \"Middle Belt\": \"(mpc.e <1) and (mpc.q/(1-mpc.e) >= 2.5) and (mpc.q/(1-mpc.e) <= 2.8 and mpc.q>=1.3)\",\\n    \"Outer Belt\": \"(mpc.e <1) and (mpc.q/(1-mpc.e) >= 2.8) and (mpc.q/(1-mpc.e) <= 3.2 and mpc.q>=1.3)\",\\n'"
      ]
     },
     "execution_count": 67,
     "metadata": {},
     "output_type": "execute_result"
    }
   ],
   "source": [
    "regions = {\n",
    "    \"NEO\": \"q <= 1.3\",\n",
    "    \"Main Belt\": \"(mpc.e <1) and (mpc.q/(1-mpc.e) >= 1.8) and (mpc.q/(1-mpc.e) <= 4.1 and mpc.q>=1.3)\",\n",
    "    \"Jupiter Trojans\": \"(mpc.q/(1-mpc.e) >= 5.05) and (mpc.q/(1-mpc.e) <= 5.35)\"\n",
    "}\n",
    "'''\n",
    "    \"Inner Belt\": \"(mpc.e <1) and (mpc.q/(1-mpc.e) >= 2.1) and (mpc.q/(1-mpc.e) <= 2.5 and mpc.q>=1.3)\",\n",
    "    \"Middle Belt\": \"(mpc.e <1) and (mpc.q/(1-mpc.e) >= 2.5) and (mpc.q/(1-mpc.e) <= 2.8 and mpc.q>=1.3)\",\n",
    "    \"Outer Belt\": \"(mpc.e <1) and (mpc.q/(1-mpc.e) >= 2.8) and (mpc.q/(1-mpc.e) <= 3.2 and mpc.q>=1.3)\",\n",
    "'''"
   ]
  },
  {
   "cell_type": "code",
   "execution_count": 69,
   "metadata": {},
   "outputs": [],
   "source": [
    "extreme_region_obj_ids = {\n",
    "    region: [] for region in regions\n",
    "}\n",
    "\n",
    "for region, condition in regions.items():\n",
    "    stmt = f'''\n",
    "            select distinct ds.ssObjectId\n",
    "            from dp03_catalogs_10yr.DiaSource as ds\n",
    "            join dp03_catalogs_10yr.MPCORB as mpc on mpc.ssObjectId = ds.ssObjectId\n",
    "            where mag>=30 and {condition}\n",
    "            '''\n",
    "\n",
    "    extreme_region_obj_ids[region].append(\n",
    "        query(\n",
    "            stmt\n",
    "        )\n",
    "    )"
   ]
  },
  {
   "cell_type": "code",
   "execution_count": null,
   "metadata": {},
   "outputs": [],
   "source": [
    "for region in regions:\n",
    "    np.save(f\"{region}_wacky_mag_ids.npy\", np.array(extreme_region_obj_ids[region][0][\"ssObjectId\"]))\n",
    "    #print(np.load(f\"{region}_wacky_mag_ids.npy\"))"
   ]
  }
 ],
 "metadata": {
  "kernelspec": {
   "display_name": ".venv",
   "language": "python",
   "name": "python3"
  },
  "language_info": {
   "codemirror_mode": {
    "name": "ipython",
    "version": 3
   },
   "file_extension": ".py",
   "mimetype": "text/x-python",
   "name": "python",
   "nbconvert_exporter": "python",
   "pygments_lexer": "ipython3",
   "version": "3.11.4"
  },
  "orig_nbformat": 4
 },
 "nbformat": 4,
 "nbformat_minor": 2
}
